{
 "cells": [
  {
   "cell_type": "code",
   "execution_count": 2,
   "id": "f9fe63d4",
   "metadata": {},
   "outputs": [
    {
     "name": "stdout",
     "output_type": "stream",
     "text": [
      "Untitled.ipynb\tboerequests.py\tdependencies.py     go.sh\r\n",
      "__pycache__\tboetest.py\tdocker-compose.yml  main.py\r\n"
     ]
    }
   ],
   "source": [
    "!ls"
   ]
  },
  {
   "cell_type": "code",
   "execution_count": 3,
   "id": "c0a0b748",
   "metadata": {},
   "outputs": [],
   "source": [
    "import concurrent.futures\n",
    "import fire\n",
    "# from logger import setup_logger\n",
    "import time\n",
    "import requests\n",
    "import json\n",
    "import gzip\n",
    "from pydantic import BaseModel\n",
    "from typing import Any\n",
    "import multiprocessing\n",
    "from fastapi import FastAPI\n",
    "import os\n",
    "from pydantic import BaseModel\n",
    "import uvicorn\n",
    "import glob\n",
    "import cv2,base64\n",
    "import base64\n",
    "import cv2\n",
    "import glob\n",
    "import concurrent.futures\n",
    "import datetime\n",
    "import pytz"
   ]
  },
  {
   "cell_type": "code",
   "execution_count": 48,
   "id": "b5e1f98b",
   "metadata": {},
   "outputs": [
    {
     "name": "stdout",
     "output_type": "stream",
     "text": [
      "2023-04-10 14:34:52.782255+08:00\n",
      "{\"retCode\":0,\"retMsg\":\"ok\",\"args\":{}}\n",
      "\tthreads  time is :[0.05937075614929199],threads conut is:1\n",
      "\ttotal   time is :[0.06094193458557129],process count is:1\n",
      "2023-04-10 14:34:53.251757+08:00\n"
     ]
    }
   ],
   "source": [
    "CONCURRENT_NUM=1\n",
    "NUM_THREADS=1\n",
    "imageurl = \"http://t15.baidu.com/it/u=3754643775,1673600096&fm=224&app=112&f=JPEG?w=500&h=500&s=29E47A2242EE2EBE5AF905940100C0C2\"\n",
    "url = 'http://127.0.0.1:8000'\n",
    "headers = {'Content-Type': 'application/json', 'Content-Encoding': 'gzip','x-token':'BoeAiInferenceRequest'}\n",
    "compressed_data=''\n",
    "json_data=''\n",
    "def targeta(aaaaaaaaaaaaaaaa):\n",
    "    t1 = time.time()\n",
    "    ff=glob.glob('pics/*.jpg')\n",
    "    for f in ff:\n",
    "        with open(f,'rb') as ff:\n",
    "            buffer = ff.read()\n",
    "            img_str=base64.b64encode(buffer).decode()\n",
    "            data = {'alg_code': '1', 'system': 'api',\n",
    "                    \"userId\": \"postman\",\n",
    "                    \"sessionId\": \"postman\",\n",
    "                    \"router\": \"\",\n",
    "                    \"user\": \"poatman\",\n",
    "                    \"args\":{\n",
    "                        \"img_base64\":img_str\n",
    "                    }\n",
    "                   }\n",
    "        json_data = json.dumps(data).encode('utf-8')\n",
    "        compressed_data = gzip.compress(json_data)\n",
    "        for _ in range(NUM_THREADS):\n",
    "            response = requests.post(url, headers=headers, data=compressed_data)\n",
    "            print(response.text)\n",
    "        print(f'\\tthreads  time is :[{time.time()-t1}],threads conut is:{NUM_THREADS}')\n",
    "    print(f'\\ttotal   time is :[{time.time()-t1}],process count is:{CONCURRENT_NUM}')\n",
    "    \n",
    "  \n",
    "current_time = datetime.datetime.now(pytz.timezone('Asia/Shanghai'))\n",
    "print (current_time) \n",
    "import concurrent.futures\n",
    "with concurrent.futures.ProcessPoolExecutor() as worker:\n",
    "    result=worker.map(targeta,[_ for x in range(CONCURRENT_NUM)])\n",
    "#     for i in result:\n",
    "#         print(i)\n",
    "current_time = datetime.datetime.now(pytz.timezone('Asia/Shanghai'))\n",
    "print (current_time) "
   ]
  },
  {
   "cell_type": "code",
   "execution_count": null,
   "id": "5f3cf25d",
   "metadata": {},
   "outputs": [],
   "source": []
  }
 ],
 "metadata": {
  "kernelspec": {
   "display_name": "Python 3 (ipykernel)",
   "language": "python",
   "name": "python3"
  },
  "language_info": {
   "codemirror_mode": {
    "name": "ipython",
    "version": 3
   },
   "file_extension": ".py",
   "mimetype": "text/x-python",
   "name": "python",
   "nbconvert_exporter": "python",
   "pygments_lexer": "ipython3",
   "version": "3.10.6"
  }
 },
 "nbformat": 4,
 "nbformat_minor": 5
}
