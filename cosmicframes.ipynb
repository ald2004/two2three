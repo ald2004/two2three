{
 "cells": [
  {
   "cell_type": "code",
   "execution_count": 1,
   "metadata": {},
   "outputs": [
    {
     "name": "stdout",
     "output_type": "stream",
     "text": [
      "AdelaiDepth\t\t\t\t\t    __pycache__\r\n",
      "checkpoints\t\t\t\t\t    result\r\n",
      "config.py\t\t\t\t\t    results\r\n",
      "cosmicframes.py\t\t\t\t\t    RGBDsod\r\n",
      "cosmicsteps.py\t\t\t\t\t    saicinpainting\r\n",
      "downloader.py\t\t\t\t\t    startCosMicFramesService.sh\r\n",
      "imgprocess_wrapper.cpython-36m-x86_64-linux-gnu.so  tmp\r\n",
      "interweave\t\t\t\t\t    unitest.py\r\n",
      "logger.py\t\t\t\t\t    Untitled.ipynb\r\n",
      "model\t\t\t\t\t\t    utils\r\n",
      "nohup.out\r\n"
     ]
    }
   ],
   "source": [
    "!ls"
   ]
  },
  {
   "cell_type": "code",
   "execution_count": 5,
   "metadata": {},
   "outputs": [],
   "source": [
    "import concurrent.futures\n",
    "import fire\n",
    "# from logger import setup_logger\n",
    "import time\n",
    "import requests\n",
    "import json\n",
    "import gzip\n",
    "from pydantic import BaseModel\n",
    "from typing import Any\n",
    "import multiprocessing\n",
    "from fastapi import FastAPI\n",
    "import os\n",
    "from pydantic import BaseModel\n",
    "import uvicorn\n",
    "import glob\n",
    "import cv2,base64\n",
    "import base64\n",
    "import cv2\n",
    "import glob\n",
    "import concurrent.futures\n",
    "import datetime\n",
    "import pytz"
   ]
  },
  {
   "cell_type": "code",
   "execution_count": 15,
   "metadata": {},
   "outputs": [
    {
     "name": "stdout",
     "output_type": "stream",
     "text": [
      "2023-07-04 10:51:37.289921+08:00\n",
      "{\"success\":\"true\",\"code\":\"0\",\"message\":\"业务处理成功\",\"taskid\":\"00000\"}\n",
      "\ttotal   time is :[0.022685527801513672],process count is:1\n",
      "2023-07-04 10:51:37.361697+08:00\n"
     ]
    }
   ],
   "source": [
    "\n",
    "CONCURRENT_NUM=1\n",
    "NUM_THREADS=1\n",
    "imageurl = \"http://t15.baidu.com/it/u=3754643775,1673600096&fm=224&app=112&f=JPEG?w=500&h=500&s=29E47A2242EE2EBE5AF905940100C0C2\"\n",
    "url = 'http://123.57.75.190:9990/cosmicframes'\n",
    "headers = {'Content-Type': 'application/json', 'Content-Encoding': 'gzip','x-token':'BoeAiInferenceRequest'}\n",
    "compressed_data=''\n",
    "json_data=''\n",
    "def targeta(aaaaaaaaaaaaaaaa):\n",
    "    t1 = time.time()\n",
    "    data = {'alg_code': '1', 'system': 'api',\n",
    "            \"userId\": \"postman\",\n",
    "            \"sessionId\": \"postman\",\n",
    "            \"router\": \"\",\n",
    "            \"user\": \"poatman\",\n",
    "            \"args\":{\n",
    "#                 \"img_base64\":img_str\n",
    "            },\n",
    "            \"taskId\":849,\n",
    "            \"picUrl\":\"https://aitest.boe.com/minio//tms/dc6d2b1b-19ec-4a44-9442-a17fdc939c84.png\"\n",
    "           }\n",
    "    json_data = json.dumps(data).encode('utf-8')\n",
    "#     compressed_data = gzip.compress(json_data)\n",
    "    for _ in range(NUM_THREADS):\n",
    "        response = requests.post(url, headers=headers, data=json_data)\n",
    "        print(response.text)\n",
    "#     print(f'\\tthreads  time is :[{time.time()-t1}],threads conut is:{NUM_THREADS}')\n",
    "    print(f'\\ttotal   time is :[{time.time()-t1}],process count is:{CONCURRENT_NUM}')\n",
    "    \n",
    "  \n",
    "current_time = datetime.datetime.now(pytz.timezone('Asia/Shanghai'))\n",
    "print (current_time) \n",
    "import concurrent.futures\n",
    "with concurrent.futures.ProcessPoolExecutor() as worker:\n",
    "    result=worker.map(targeta,[_ for x in range(CONCURRENT_NUM)])\n",
    "#     for i in result:\n",
    "#         print(i)\n",
    "current_time = datetime.datetime.now(pytz.timezone('Asia/Shanghai'))\n",
    "print (current_time) "
   ]
  },
  {
   "cell_type": "code",
   "execution_count": null,
   "metadata": {},
   "outputs": [],
   "source": []
  }
 ],
 "metadata": {
  "kernelspec": {
   "display_name": "Python 3",
   "language": "python",
   "name": "python3"
  },
  "language_info": {
   "codemirror_mode": {
    "name": "ipython",
    "version": 3
   },
   "file_extension": ".py",
   "mimetype": "text/x-python",
   "name": "python",
   "nbconvert_exporter": "python",
   "pygments_lexer": "ipython3",
   "version": "3.6.9"
  }
 },
 "nbformat": 4,
 "nbformat_minor": 2
}
